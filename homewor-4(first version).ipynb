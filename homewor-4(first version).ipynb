{
 "metadata": {
  "name": "",
  "signature": "sha256:39dfc40a89575ede73213d315bbac651eb0440317060ddd6079ae40b07bcaf38"
 },
 "nbformat": 3,
 "nbformat_minor": 0,
 "worksheets": [
  {
   "cells": [
    {
     "cell_type": "code",
     "collapsed": false,
     "input": [
      "%matplotlib inline"
     ],
     "language": "python",
     "metadata": {},
     "outputs": [],
     "prompt_number": 1
    },
    {
     "cell_type": "code",
     "collapsed": false,
     "input": [
      "import numpy \n",
      "N = 100"
     ],
     "language": "python",
     "metadata": {},
     "outputs": [],
     "prompt_number": 33
    },
    {
     "cell_type": "code",
     "collapsed": false,
     "input": [
      "def KMR(N, p, e):\n",
      "# TO DEFINE TRANSITION MATRIX \n",
      "# for p is the boundary probability with respect to transition probability from current state\n",
      "        matrix = np.zeros((N + 1, N + 1))\n",
      "def matrix():\n",
      "# for some x in the range, the probability will follow the following algorithm\n",
      "    if float(x)/N < p:\n",
      "        matrix[x,:]  = binom.pmf(range(N+1), N, e/2)\n",
      "    elif float(x)/N == p:\n",
      "        matrix[x,:]  = binom.pmf(range(N+1), N, 1/2)           \n",
      "    else:\n",
      "        matrix[x,:]  = binom.pmf(range(N+1), N, 1-e/2) \n",
      "# by this I meant to define the transition matrics.\n",
      "    return matrix()\n",
      "\n"
     ],
     "language": "python",
     "metadata": {},
     "outputs": [],
     "prompt_number": 48
    },
    {
     "cell_type": "code",
     "collapsed": false,
     "input": [
      "X =KMR(100,1/3, 0.1)\n",
      "print X"
     ],
     "language": "python",
     "metadata": {},
     "outputs": [
      {
       "output_type": "stream",
       "stream": "stdout",
       "text": [
        "None\n"
       ]
      }
     ],
     "prompt_number": 49
    },
    {
     "cell_type": "code",
     "collapsed": false,
     "input": [],
     "language": "python",
     "metadata": {},
     "outputs": [
      {
       "output_type": "stream",
       "stream": "stdout",
       "text": [
        "[]\n"
       ]
      }
     ],
     "prompt_number": 44
    },
    {
     "cell_type": "code",
     "collapsed": false,
     "input": [],
     "language": "python",
     "metadata": {},
     "outputs": []
    }
   ],
   "metadata": {}
  }
 ]
}
