{
 "metadata": {
  "name": "",
  "signature": "sha256:bc54e37f559c14834a6bbfab25bf3e6d01226976767c758e774d6baae226be7b"
 },
 "nbformat": 3,
 "nbformat_minor": 0,
 "worksheets": [
  {
   "cells": [
    {
     "cell_type": "code",
     "collapsed": false,
     "input": [
      "import numpy \n",
      "N = 30\n",
      "p = 1/2 \n",
      "\n"
     ],
     "language": "python",
     "metadata": {},
     "outputs": [],
     "prompt_number": 17
    },
    {
     "cell_type": "code",
     "collapsed": false,
     "input": [
      "def B(x):\n",
      "    if float(x)/N * (1-p) > (N-x)/N * p: \n",
      "        return N\n",
      "    elif float(x) * (1-p) == (N-x)/N * p:\n",
      "        return x\n",
      "    else:\n",
      "        return 0"
     ],
     "language": "python",
     "metadata": {},
     "outputs": [],
     "prompt_number": 23
    },
    {
     "cell_type": "code",
     "collapsed": false,
     "input": [
      "graph = []\n",
      "x_axis = numpy.linspace(0.001, 0.1, num = 10)\n",
      "for epsilon in x_axis:\n",
      "    X = 5 \n",
      "    X_list = [X]\n",
      "    for i in range(10000):\n",
      "        X = B(X) + numpy.random.binomial(N -  B(X), epsilon) - numpy.random.binomial(B(X), epsilon)\n",
      "        X_list.append(X)\n",
      "    graph.append(X_list.count(N))\n",
      "graph = [float(x)/10000 for x in graph]\n",
      "print graph "
     ],
     "language": "python",
     "metadata": {},
     "outputs": [
      {
       "output_type": "stream",
       "stream": "stdout",
       "text": [
        "[0.9707, 0.6951, 0.5015, 0.3517, 0.2457, 0.1766, 0.1262, 0.0889, 0.0602, 0.0426]\n"
       ]
      }
     ],
     "prompt_number": 24
    },
    {
     "cell_type": "code",
     "collapsed": false,
     "input": [
      "%matplotlib inline\n",
      "import matplotlib.pyplot as plt"
     ],
     "language": "python",
     "metadata": {},
     "outputs": [],
     "prompt_number": 28
    },
    {
     "cell_type": "code",
     "collapsed": false,
     "input": [
      "def draw_histogram(distribution,\n",
      "                   ax=None, title=None, xlabel=None, ylabel=None, ylim=(0, 1)):\n",
      "    \"\"\"\n",
      "    Plot the given distribution.\n",
      "    \n",
      "    \"\"\"\n",
      "    if ax is None:\n",
      "        fig, ax = plt.subplots()\n",
      "    n = len(distribution)\n",
      "    ax.bar(numpy.arange(n), distribution, align='center')\n",
      "    ax.set_xlim(-0.5, (n-1)+0.5)\n",
      "    ax.set_ylim(*ylim)\n",
      "    ax.set_xticks(numpy.arange(n))\n",
      "    ax.set_xticklabels(x_axis)\n",
      "    if title:\n",
      "        ax.set_title(title)\n",
      "    if xlabel:\n",
      "        ax.set_xlabel(xlabel)\n",
      "    if ylabel:\n",
      "        ax.set_ylabel(ylabel)\n",
      "    if ax is None:\n",
      "        plt.show()"
     ],
     "language": "python",
     "metadata": {},
     "outputs": [],
     "prompt_number": 32
    },
    {
     "cell_type": "code",
     "collapsed": false,
     "input": [
      "draw_histogram(graph,\n",
      "                   ax=None, title='Fraction of time spent at N', xlabel=None, ylabel=None, ylim=(0, 1.05))"
     ],
     "language": "python",
     "metadata": {},
     "outputs": [
      {
       "metadata": {},
       "output_type": "display_data",
       "png": "[encoded data removed]",
       "text": [
        "<matplotlib.figure.Figure at 0x5150c50>"
       ]
      }
     ],
     "prompt_number": 34
    },
    {
     "cell_type": "code",
     "collapsed": false,
     "input": [],
     "language": "python",
     "metadata": {},
     "outputs": [],
     "prompt_number": 33
    },
    {
     "cell_type": "code",
     "collapsed": false,
     "input": [],
     "language": "python",
     "metadata": {},
     "outputs": []
    }
   ],
   "metadata": {}
  }
 ]
}
